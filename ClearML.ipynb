{
 "cells": [
  {
   "cell_type": "code",
   "execution_count": 1,
   "metadata": {},
   "outputs": [
    {
     "name": "stdout",
     "output_type": "stream",
     "text": [
      "ClearML Task: overwriting (reusing) task id=378c5c79a7c142beae5e70b0f6b79d06\n",
      "2021-04-10 15:07:37,003 - clearml.Task - INFO - No repository found, storing script code instead\n",
      "ClearML results page: https://app.community.clear.ml/projects/c3aeff19e3764c63a0a8acc00018a71e/experiments/378c5c79a7c142beae5e70b0f6b79d06/output/log\n"
     ]
    }
   ],
   "source": [
    "from clearml import Task, Dataset\n",
    "task = Task.init(project_name=\"uchicago\", task_name=\"my task\")"
   ]
  },
  {
   "cell_type": "markdown",
   "metadata": {},
   "source": [
    "## Create Dataset1 from Local to ClearML"
   ]
  },
  {
   "cell_type": "code",
   "execution_count": 29,
   "metadata": {},
   "outputs": [
    {
     "name": "stdout",
     "output_type": "stream",
     "text": [
      "clearml-data - Dataset Management & Versioning CLI\n",
      "Creating a new dataset:\n",
      "New dataset created id=9a9a3f12d37d460ca45853eb4f0daaea\n",
      "clearml-data - Dataset Management & Versioning CLI\n",
      "Syncing dataset id 9a9a3f12d37d460ca45853eb4f0daaea to local folder /Users/andrewleonard/Documents/GitHub/ML_Ops/no_state.csv\n",
      "Sync completed: 0 files removed, 1 added / modified\n",
      "Finalizing dataset\n",
      "Pending uploads, starting dataset upload to https://files.community.clear.ml\n",
      "Uploading compressed dataset changes (1 files, total 11.26 KB) to https://files.community.clear.ml\n",
      "Upload completed (11.26 KB)\n",
      "2021-04-10 15:27:11,502 - clearml.Task - INFO - Waiting to finish uploads\n",
      "2021-04-10 15:27:11,703 - clearml.Task - INFO - Finished uploading\n",
      "Dataset closed and finalized\n",
      "2021-04-10 15:33:59,359 - clearml.Task - WARNING - ### TASK STOPPED - USER ABORTED - STATUS CHANGED ###\n"
     ]
    }
   ],
   "source": [
    "!clearml-data create --project uchicago --name dataset1\n",
    "!clearml-data sync --folder /Users/andrewleonard/Documents/GitHub/ML_Ops/illinois-history.csv"
   ]
  },
  {
   "cell_type": "markdown",
   "metadata": {},
   "source": [
    "## Download Dataset1 to Local"
   ]
  },
  {
   "cell_type": "code",
   "execution_count": 16,
   "metadata": {},
   "outputs": [],
   "source": [
    "dataset = Dataset.get(dataset_project = 'uchicago', dataset_name = 'dataset1')"
   ]
  },
  {
   "cell_type": "code",
   "execution_count": 17,
   "metadata": {},
   "outputs": [],
   "source": [
    "dataset_folder = dataset.get_mutable_local_copy(target_folder = 'working_dataset')"
   ]
  },
  {
   "cell_type": "code",
   "execution_count": 18,
   "metadata": {},
   "outputs": [
    {
     "data": {
      "text/plain": [
       "'working_dataset'"
      ]
     },
     "execution_count": 18,
     "metadata": {},
     "output_type": "execute_result"
    }
   ],
   "source": [
    "dataset_folder"
   ]
  },
  {
   "cell_type": "code",
   "execution_count": 19,
   "metadata": {},
   "outputs": [],
   "source": [
    "import pandas as pd"
   ]
  },
  {
   "cell_type": "code",
   "execution_count": 20,
   "metadata": {},
   "outputs": [],
   "source": [
    "data = pd.read_csv(\"working_dataset/illinois-history.csv\")"
   ]
  },
  {
   "cell_type": "code",
   "execution_count": 21,
   "metadata": {
    "scrolled": true
   },
   "outputs": [
    {
     "data": {
      "text/html": [
       "<div>\n",
       "<style scoped>\n",
       "    .dataframe tbody tr th:only-of-type {\n",
       "        vertical-align: middle;\n",
       "    }\n",
       "\n",
       "    .dataframe tbody tr th {\n",
       "        vertical-align: top;\n",
       "    }\n",
       "\n",
       "    .dataframe thead th {\n",
       "        text-align: right;\n",
       "    }\n",
       "</style>\n",
       "<table border=\"1\" class=\"dataframe\">\n",
       "  <thead>\n",
       "    <tr style=\"text-align: right;\">\n",
       "      <th></th>\n",
       "      <th>date</th>\n",
       "      <th>state</th>\n",
       "      <th>dataQualityGrade</th>\n",
       "      <th>death</th>\n",
       "      <th>deathConfirmed</th>\n",
       "      <th>deathIncrease</th>\n",
       "      <th>deathProbable</th>\n",
       "      <th>hospitalized</th>\n",
       "      <th>hospitalizedCumulative</th>\n",
       "      <th>hospitalizedCurrently</th>\n",
       "      <th>...</th>\n",
       "      <th>totalTestResults</th>\n",
       "      <th>totalTestResultsIncrease</th>\n",
       "      <th>totalTestsAntibody</th>\n",
       "      <th>totalTestsAntigen</th>\n",
       "      <th>totalTestsPeopleAntibody</th>\n",
       "      <th>totalTestsPeopleAntigen</th>\n",
       "      <th>totalTestsPeopleViral</th>\n",
       "      <th>totalTestsPeopleViralIncrease</th>\n",
       "      <th>totalTestsViral</th>\n",
       "      <th>totalTestsViralIncrease</th>\n",
       "    </tr>\n",
       "  </thead>\n",
       "  <tbody>\n",
       "    <tr>\n",
       "      <th>0</th>\n",
       "      <td>2020-10-09</td>\n",
       "      <td>IL</td>\n",
       "      <td>A</td>\n",
       "      <td>9191.0</td>\n",
       "      <td>8945.0</td>\n",
       "      <td>32</td>\n",
       "      <td>246.0</td>\n",
       "      <td>NaN</td>\n",
       "      <td>NaN</td>\n",
       "      <td>1812.0</td>\n",
       "      <td>...</td>\n",
       "      <td>6180417</td>\n",
       "      <td>71898</td>\n",
       "      <td>NaN</td>\n",
       "      <td>NaN</td>\n",
       "      <td>NaN</td>\n",
       "      <td>NaN</td>\n",
       "      <td>NaN</td>\n",
       "      <td>0</td>\n",
       "      <td>6177379.0</td>\n",
       "      <td>71599</td>\n",
       "    </tr>\n",
       "    <tr>\n",
       "      <th>1</th>\n",
       "      <td>2020-10-08</td>\n",
       "      <td>IL</td>\n",
       "      <td>A</td>\n",
       "      <td>9159.0</td>\n",
       "      <td>8910.0</td>\n",
       "      <td>32</td>\n",
       "      <td>249.0</td>\n",
       "      <td>NaN</td>\n",
       "      <td>NaN</td>\n",
       "      <td>1755.0</td>\n",
       "      <td>...</td>\n",
       "      <td>6108519</td>\n",
       "      <td>72491</td>\n",
       "      <td>NaN</td>\n",
       "      <td>NaN</td>\n",
       "      <td>NaN</td>\n",
       "      <td>NaN</td>\n",
       "      <td>NaN</td>\n",
       "      <td>0</td>\n",
       "      <td>6105780.0</td>\n",
       "      <td>72491</td>\n",
       "    </tr>\n",
       "    <tr>\n",
       "      <th>2</th>\n",
       "      <td>2020-10-07</td>\n",
       "      <td>IL</td>\n",
       "      <td>A</td>\n",
       "      <td>9127.0</td>\n",
       "      <td>8878.0</td>\n",
       "      <td>42</td>\n",
       "      <td>249.0</td>\n",
       "      <td>NaN</td>\n",
       "      <td>NaN</td>\n",
       "      <td>1679.0</td>\n",
       "      <td>...</td>\n",
       "      <td>6036028</td>\n",
       "      <td>58820</td>\n",
       "      <td>NaN</td>\n",
       "      <td>NaN</td>\n",
       "      <td>NaN</td>\n",
       "      <td>NaN</td>\n",
       "      <td>NaN</td>\n",
       "      <td>0</td>\n",
       "      <td>6033289.0</td>\n",
       "      <td>58820</td>\n",
       "    </tr>\n",
       "    <tr>\n",
       "      <th>3</th>\n",
       "      <td>2020-10-06</td>\n",
       "      <td>IL</td>\n",
       "      <td>A</td>\n",
       "      <td>9085.0</td>\n",
       "      <td>8836.0</td>\n",
       "      <td>31</td>\n",
       "      <td>249.0</td>\n",
       "      <td>NaN</td>\n",
       "      <td>NaN</td>\n",
       "      <td>1673.0</td>\n",
       "      <td>...</td>\n",
       "      <td>5977208</td>\n",
       "      <td>49513</td>\n",
       "      <td>NaN</td>\n",
       "      <td>NaN</td>\n",
       "      <td>NaN</td>\n",
       "      <td>NaN</td>\n",
       "      <td>NaN</td>\n",
       "      <td>0</td>\n",
       "      <td>5974469.0</td>\n",
       "      <td>49513</td>\n",
       "    </tr>\n",
       "    <tr>\n",
       "      <th>4</th>\n",
       "      <td>2020-10-05</td>\n",
       "      <td>IL</td>\n",
       "      <td>A</td>\n",
       "      <td>9054.0</td>\n",
       "      <td>8805.0</td>\n",
       "      <td>14</td>\n",
       "      <td>249.0</td>\n",
       "      <td>NaN</td>\n",
       "      <td>NaN</td>\n",
       "      <td>1631.0</td>\n",
       "      <td>...</td>\n",
       "      <td>5927695</td>\n",
       "      <td>38538</td>\n",
       "      <td>NaN</td>\n",
       "      <td>NaN</td>\n",
       "      <td>NaN</td>\n",
       "      <td>NaN</td>\n",
       "      <td>NaN</td>\n",
       "      <td>0</td>\n",
       "      <td>5924956.0</td>\n",
       "      <td>38538</td>\n",
       "    </tr>\n",
       "  </tbody>\n",
       "</table>\n",
       "<p>5 rows × 43 columns</p>\n",
       "</div>"
      ],
      "text/plain": [
       "         date state dataQualityGrade   death  deathConfirmed  deathIncrease  \\\n",
       "0  2020-10-09    IL                A  9191.0          8945.0             32   \n",
       "1  2020-10-08    IL                A  9159.0          8910.0             32   \n",
       "2  2020-10-07    IL                A  9127.0          8878.0             42   \n",
       "3  2020-10-06    IL                A  9085.0          8836.0             31   \n",
       "4  2020-10-05    IL                A  9054.0          8805.0             14   \n",
       "\n",
       "   deathProbable  hospitalized  hospitalizedCumulative  hospitalizedCurrently  \\\n",
       "0          246.0           NaN                     NaN                 1812.0   \n",
       "1          249.0           NaN                     NaN                 1755.0   \n",
       "2          249.0           NaN                     NaN                 1679.0   \n",
       "3          249.0           NaN                     NaN                 1673.0   \n",
       "4          249.0           NaN                     NaN                 1631.0   \n",
       "\n",
       "   ...  totalTestResults  totalTestResultsIncrease  totalTestsAntibody  \\\n",
       "0  ...           6180417                     71898                 NaN   \n",
       "1  ...           6108519                     72491                 NaN   \n",
       "2  ...           6036028                     58820                 NaN   \n",
       "3  ...           5977208                     49513                 NaN   \n",
       "4  ...           5927695                     38538                 NaN   \n",
       "\n",
       "   totalTestsAntigen  totalTestsPeopleAntibody  totalTestsPeopleAntigen  \\\n",
       "0                NaN                       NaN                      NaN   \n",
       "1                NaN                       NaN                      NaN   \n",
       "2                NaN                       NaN                      NaN   \n",
       "3                NaN                       NaN                      NaN   \n",
       "4                NaN                       NaN                      NaN   \n",
       "\n",
       "   totalTestsPeopleViral  totalTestsPeopleViralIncrease  totalTestsViral  \\\n",
       "0                    NaN                              0        6177379.0   \n",
       "1                    NaN                              0        6105780.0   \n",
       "2                    NaN                              0        6033289.0   \n",
       "3                    NaN                              0        5974469.0   \n",
       "4                    NaN                              0        5924956.0   \n",
       "\n",
       "   totalTestsViralIncrease  \n",
       "0                    71599  \n",
       "1                    72491  \n",
       "2                    58820  \n",
       "3                    49513  \n",
       "4                    38538  \n",
       "\n",
       "[5 rows x 43 columns]"
      ]
     },
     "execution_count": 21,
     "metadata": {},
     "output_type": "execute_result"
    }
   ],
   "source": [
    "data.head()"
   ]
  },
  {
   "cell_type": "markdown",
   "metadata": {},
   "source": [
    "## Store Dataset2"
   ]
  },
  {
   "cell_type": "code",
   "execution_count": 24,
   "metadata": {},
   "outputs": [],
   "source": [
    "#drop a column\n",
    "data2 = data.drop('state', axis = 1)"
   ]
  },
  {
   "cell_type": "code",
   "execution_count": 26,
   "metadata": {},
   "outputs": [],
   "source": [
    "#save to data folder\n",
    "data2.to_csv('working_dataset/no_state.csv')"
   ]
  },
  {
   "cell_type": "code",
   "execution_count": 27,
   "metadata": {},
   "outputs": [
    {
     "name": "stdout",
     "output_type": "stream",
     "text": [
      "Generating SHA2 hash for 2 files\n",
      "Hash generation completed\n",
      "Uploading compressed dataset changes (1 files, total 11.26 KB) to https://files.community.clear.ml\n",
      "Upload completed (11.26 KB)\n",
      "2021-04-10 15:21:24,291 - clearml.Task - INFO - Waiting to finish uploads\n",
      "2021-04-10 15:21:24,477 - clearml.Task - INFO - Finished uploading\n"
     ]
    },
    {
     "data": {
      "text/plain": [
       "True"
      ]
     },
     "execution_count": 27,
     "metadata": {},
     "output_type": "execute_result"
    }
   ],
   "source": [
    "new_dataset = Dataset.create(dataset_project = 'uchicago', dataset_name = 'dataset2', parent_datasets=[dataset])\n",
    "new_dataset.sync_folder(local_path=dataset_folder)\n",
    "new_dataset.upload()\n",
    "new_dataset.finalize()"
   ]
  },
  {
   "cell_type": "code",
   "execution_count": null,
   "metadata": {},
   "outputs": [],
   "source": [
    "dataset = Dataset.get(dataset_project = 'uchicago', dataset_name = 'dataset2')"
   ]
  },
  {
   "cell_type": "code",
   "execution_count": null,
   "metadata": {},
   "outputs": [],
   "source": []
  }
 ],
 "metadata": {
  "kernelspec": {
   "display_name": "Python 3",
   "language": "python",
   "name": "python3"
  },
  "language_info": {
   "codemirror_mode": {
    "name": "ipython",
    "version": 3
   },
   "file_extension": ".py",
   "mimetype": "text/x-python",
   "name": "python",
   "nbconvert_exporter": "python",
   "pygments_lexer": "ipython3",
   "version": "3.8.5"
  }
 },
 "nbformat": 4,
 "nbformat_minor": 4
}
